{
  "nbformat": 4,
  "nbformat_minor": 0,
  "metadata": {
    "colab": {
      "provenance": []
    },
    "kernelspec": {
      "name": "python3",
      "display_name": "Python 3"
    },
    "language_info": {
      "name": "python"
    }
  },
  "cells": [
    {
      "cell_type": "code",
      "execution_count": 1,
      "metadata": {
        "colab": {
          "base_uri": "https://localhost:8080/"
        },
        "id": "N6TlgUZNct8A",
        "outputId": "982b683b-7a3c-4697-d9d8-2391558a10f3"
      },
      "outputs": [
        {
          "output_type": "stream",
          "name": "stdout",
          "text": [
            "Enter an integer greater than 0: 6\n",
            "   Even  Odd  Fibonacci\n",
            "0     0    1          0\n",
            "1     2    3          1\n",
            "2     4    5          1\n",
            "3     6    7          2\n",
            "4     8    9          3\n",
            "5    10   11          5\n"
          ]
        }
      ],
      "source": [
        "# Author: Jacquelyn Bowen\n",
        "# Date: 03/31/2023\n",
        "# Description: Python code that compiles the sequence of the first non-negative n even, odd, and Fibonacci numbers\n",
        "\n",
        "import pandas as pd\n",
        "\n",
        "# Ask user to enter a positive integer\n",
        "n = int(input(\"Enter an integer greater than 0: \"))\n",
        "\n",
        "# Check if user's entry is greater than 0\n",
        "if n <= 0:\n",
        "    print(\"Please enter an integer greater than 0.\")\n",
        "else:\n",
        "    # Create lists for each sequence\n",
        "    even_numbers = [i*2 for i in range(n)]\n",
        "    odd_numbers = [2*i+1 for i in range(n)]\n",
        "    fibonacci_numbers = [0, 1]\n",
        "    for i in range(2, n):\n",
        "        fibonacci_numbers.append(fibonacci_numbers[i-1] + fibonacci_numbers[i-2])\n",
        "\n",
        "    # Create a data frame to display the results\n",
        "    data = {'Even': even_numbers, 'Odd': odd_numbers, 'Fibonacci': fibonacci_numbers}\n",
        "    df = pd.DataFrame(data)\n",
        "    print (df)"
      ]
    }
  ]
}